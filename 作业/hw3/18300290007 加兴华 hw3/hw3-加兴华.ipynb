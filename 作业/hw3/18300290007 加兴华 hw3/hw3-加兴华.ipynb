{
 "cells": [
  {
   "cell_type": "markdown",
   "metadata": {},
   "source": [
    "<center><font size=6><b> 强化学习作业3代码题</b></font><center>\n",
    "<center><br \\><font size=4><b> 18300290007 加兴华</b></font><center>"
   ]
  },
  {
   "cell_type": "markdown",
   "metadata": {},
   "source": [
    "复现下图   \n",
    "![image.png](https://s2.loli.net/2023/01/02/m7NSRkyfWezE694.png)"
   ]
  },
  {
   "cell_type": "code",
   "execution_count": 1,
   "metadata": {},
   "outputs": [],
   "source": [
    "import numpy as np\n",
    "import random\n",
    "## 模型参数\n",
    "### action坐标分解及名称列表\n",
    "dx = [-1, 0, 1, 0, 0]\n",
    "dy = [0, -1, 0, 1, 0]\n",
    "acts = ['up  ', 'left', 'down', 'right', 'stay']\n",
    "arrow= ['↑','←','↓','→','-']\n",
    "\n",
    "### reward函数\n",
    "H, W = (10, 10)\n",
    "reward = np.zeros([H, W])\n",
    "obstacles = [(4, 1), (6, 3), (1, 8), (6, 8), (8, 6)]\n",
    "target = [(7, 6)]\n",
    "for x, y in obstacles:\n",
    "    reward[x, y] = -10\n",
    "for x, y in target:\n",
    "    reward[x, y] = 10\n",
    "\n",
    "np.random.seed(10086)\n",
    "random.seed(10086)"
   ]
  },
  {
   "cell_type": "code",
   "execution_count": 63,
   "metadata": {},
   "outputs": [],
   "source": [
    "import numpy as np\n",
    "import random\n",
    "import tqdm\n",
    "\n",
    "def Qlearning(times=1000,gamma=0.9,epsilon0=0.3,meanS=[]):\n",
    "    '''\n",
    "    [Inputs]:\n",
    "    times           重复次数\n",
    "    gamma           衰减率\n",
    "    epsilon0        初始的探索概率\n",
    "    meanS           计算状态值均值的坐标列表\n",
    "    [Outputs]:\n",
    "    pi              策略矩阵\n",
    "    Q               动作值3维矩阵\n",
    "    avgL            每轮学习后平均状态值的列表\n",
    "    '''\n",
    "    ## 初始化相关矩阵 \n",
    "    Q=np.zeros((len(acts),H,W))   ### |A|个块，每块H行W列\n",
    "    N=np.zeros((len(acts),H,W))\n",
    "    pi=np.random.randint(0,5,(H,W))  ### 策略矩阵初始化\n",
    "    pi[np.array(target)[:,0],np.array(target)[:,1]]=4  ### 终点不动\n",
    "    avgL=[]\n",
    "\n",
    "    for k in tqdm.tqdm(range(times)):\n",
    "        ## 采样轨道\n",
    "        epsilon=epsilon0\n",
    "        s0=(random.randint(0, H-1), random.randint(0, W-1))\n",
    "        episode=[s0]\n",
    "        while episode[-1] not in target:\n",
    "            s_now=episode[-1]\n",
    "            ### egreedy\n",
    "            if random.uniform(0, 1) < epsilon:  \n",
    "                a=random.randint(0, 4)\n",
    "            else:                               \n",
    "                a=np.int8(pi[s_now])\n",
    "            episode.append(a)\n",
    "            s_next=(s_now[0]+dx[a],s_now[1]+dy[a])\n",
    "            if not (0<=s_next[0]<=H-1 and 0<=s_next[1]<=W-1):\n",
    "                s_next=s_now\n",
    "                r=0\n",
    "            else:\n",
    "                r=reward[s_next]\n",
    "            episode.append(r)\n",
    "            episode.append(s_next)\n",
    "\n",
    "        ## 更新\n",
    "        state=episode[-4:0:-3]\n",
    "        r=episode[-2:2:-3]\n",
    "        a=episode[-3:1:-3]\n",
    "        alpha=0.1\n",
    "        for t in range(0,len(state)):\n",
    "            x,y=state[t][0],state[t][1]\n",
    "            x_next,y_next=episode[-1-t*3][0],episode[-1-t*3][1]\n",
    "            Q[a[t],x,y] += alpha*(r[t]+gamma*Q[pi[x_next,y_next],x_next,y_next]-Q[a[t],x,y])\n",
    "            if Q[a[t],x,y] > Q[int(pi[x,y]),x,y]:\n",
    "                pi[x,y] = a[t]\n",
    "        \n",
    "        ## 计算平均状态值\n",
    "        v=Q.max(axis=0)\n",
    "        avg=v[np.array(meanS)].mean()\n",
    "        avgL.append(avg)\n",
    "    return pi,Q,avgL\n",
    "\n",
    "def SARSA(times=1000,gamma=0.9,epsilon0=0.3,meanS=[]):\n",
    "    '''\n",
    "    [Inputs]:\n",
    "    times           重复次数\n",
    "    gamma           衰减率\n",
    "    epsilon0        初始的探索概率\n",
    "    meanS           计算状态值均值的坐标列表\n",
    "    [Outputs]:\n",
    "    pi              策略矩阵\n",
    "    Q               动作值3维矩阵\n",
    "    avgL            每轮学习后平均状态值的列表\n",
    "    '''\n",
    "    ## 初始化相关矩阵 \n",
    "    Q=np.zeros((len(acts),H,W))   ### |A|个块，每块H行W列\n",
    "    N=np.zeros((len(acts),H,W))\n",
    "    pi=np.random.randint(0,5,(H,W))  ### 策略矩阵初始化\n",
    "    pi[np.array(target)[:,0],np.array(target)[:,1]]=4  ### 终点不动\n",
    "    avgL=[]\n",
    "\n",
    "    for k in tqdm.tqdm(range(times)):\n",
    "        ## 采样轨道\n",
    "        epsilon=epsilon0\n",
    "        s0=(random.randint(0, H-1), random.randint(0, W-1))\n",
    "        episode=[s0]\n",
    "        while episode[-1] not in target:\n",
    "            s_now=episode[-1]\n",
    "            ### egreedy\n",
    "            if random.uniform(0, 1) < epsilon:  \n",
    "                a=random.randint(0, 4)\n",
    "            else:                               \n",
    "                a=np.int8(pi[s_now])\n",
    "            episode.append(a)\n",
    "            s_next=(s_now[0]+dx[a],s_now[1]+dy[a])\n",
    "            if not (0<=s_next[0]<=H-1 and 0<=s_next[1]<=W-1):\n",
    "                s_next=s_now\n",
    "                r=0\n",
    "            else:\n",
    "                r=reward[s_next]\n",
    "            episode.append(r)\n",
    "            episode.append(s_next)\n",
    "\n",
    "        ## 更新\n",
    "        state=episode[-4:0:-3]\n",
    "        r=episode[-2:2:-3]\n",
    "        a=episode[-3:1:-3]\n",
    "        alpha=0.1\n",
    "        for t in range(0,len(state)):\n",
    "            x,y=state[t][0],state[t][1]\n",
    "            x_next,y_next=episode[-1-t*3][0],episode[-1-t*3][1]\n",
    "            a_next=episode[-t*3] if t!=0 else 4\n",
    "            Q[a[t],x,y] += alpha*(r[t]+gamma*Q[a_next,x_next,y_next]-Q[a[t],x,y])\n",
    "            if Q[a[t],x,y] > Q[int(pi[x,y]),x,y]:\n",
    "                pi[x,y] = a[t]\n",
    "        \n",
    "        ## 计算平均状态值\n",
    "        v=Q.max(axis=0)\n",
    "        avg=v[np.array(meanS)].mean()\n",
    "        avgL.append(avg)\n",
    "    return pi,Q,avgL\n"
   ]
  },
  {
   "cell_type": "code",
   "execution_count": 75,
   "metadata": {},
   "outputs": [
    {
     "name": "stderr",
     "output_type": "stream",
     "text": [
      "100%|██████████| 10000/10000 [00:02<00:00, 4924.30it/s]\n",
      "100%|██████████| 10000/10000 [00:01<00:00, 9343.54it/s]\n",
      "100%|██████████| 10000/10000 [00:01<00:00, 9401.39it/s]\n",
      "100%|██████████| 10000/10000 [00:01<00:00, 9276.73it/s]\n",
      "100%|██████████| 10000/10000 [00:15<00:00, 634.59it/s]\n",
      "100%|██████████| 10000/10000 [00:18<00:00, 553.70it/s]\n"
     ]
    }
   ],
   "source": [
    "cs=[]\n",
    "gamma=0.9\n",
    "while True:\n",
    "    if len(cs)==10:\n",
    "        break\n",
    "    x0, y0 = (random.randint(0, 9), random.randint(0, 9))\n",
    "    if (x0, y0) not in cs:\n",
    "        cs.append((x0,y0))\n",
    "\n",
    "_,_,q1=Qlearning(10000,gamma,epsilon0=0.1,meanS=cs)\n",
    "_,_,s1=SARSA(10000,gamma,epsilon0=0.1,meanS=cs)\n",
    "_,_,q5=Qlearning(10000,gamma,epsilon0=0.5,meanS=cs)\n",
    "_,_,s5=SARSA(10000,gamma,epsilon0=0.5,meanS=cs)\n",
    "_,_,q10=Qlearning(10000,gamma,epsilon0=1,meanS=cs)\n",
    "_,_,s10=SARSA(10000,gamma,epsilon0=1,meanS=cs)"
   ]
  },
  {
   "cell_type": "code",
   "execution_count": 81,
   "metadata": {},
   "outputs": [
    {
     "data": {
      "image/png": "[encoded data removed]",
      "text/plain": [
       "<Figure size 432x288 with 1 Axes>"
      ]
     },
     "metadata": {
      "needs_background": "light"
     },
     "output_type": "display_data"
    }
   ],
   "source": [
    "import matplotlib.pyplot as plt\n",
    "t=range(10000)\n",
    "plt.plot(t,s1,'-.',color='r',label='SARSA(eps=0.1)')\n",
    "plt.plot(t,q1,'-.',color='black',label='Q-Learning(eps=0.1)')\n",
    "plt.plot(t,s5,'--',color='r',label='SARSA(eps=0.5)')\n",
    "plt.plot(t,q5,'--',color='black',label='Q-Learning(eps=0.5)')\n",
    "plt.plot(t,s10,'-',color='r',label='SARSA(eps=1)')\n",
    "plt.plot(t,q10,'-',color='black',label='Q-Learning(eps=1)')\n",
    "plt.plot(t,[max(q5) for i in t],linestyle='--',color='b',label='optimal')\n",
    "plt.ylabel('Average value over 10 random states')\n",
    "plt.legend()\n",
    "plt.show()"
   ]
  }
 ],
 "metadata": {
  "kernelspec": {
   "display_name": "Python 3.8.8 ('base')",
   "language": "python",
   "name": "python3"
  },
  "language_info": {
   "codemirror_mode": {
    "name": "ipython",
    "version": 3
   },
   "file_extension": ".py",
   "mimetype": "text/x-python",
   "name": "python",
   "nbconvert_exporter": "python",
   "pygments_lexer": "ipython3",
   "version": "3.8.8"
  },
  "orig_nbformat": 4,
  "vscode": {
   "interpreter": {
    "hash": "c6dc47ed52be77767ca04354fe6b66fe15b569d4eb17d13051d7217fb5a5c1b9"
   }
  }
 },
 "nbformat": 4,
 "nbformat_minor": 2
}
